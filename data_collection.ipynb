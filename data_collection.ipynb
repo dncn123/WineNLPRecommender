{
 "cells": [
  {
   "cell_type": "code",
   "execution_count": 1,
   "metadata": {
    "collapsed": true
   },
   "outputs": [],
   "source": [
    "#open search page\n",
    "#get total results page\n",
    "#get links to wine on results page\n",
    "#collect data from links\n",
    "#move onto next page"
   ]
  },
  {
   "cell_type": "code",
   "execution_count": 2,
   "metadata": {
    "collapsed": true
   },
   "outputs": [],
   "source": [
    "import requests\n",
    "from bs4 import BeautifulSoup as bs\n",
    "import numpy as np\n",
    "import pandas as pd\n",
    "import re\n",
    "import concurrent.futures\n",
    "from concurrent.futures import ThreadPoolExecutor"
   ]
  },
  {
   "cell_type": "code",
   "execution_count": 7,
   "metadata": {
    "collapsed": false
   },
   "outputs": [],
   "source": [
    "def getnumberofpages(url = \"https://www.majestic.co.uk/wine\"):\n",
    "    response = requests.get(url)\n",
    "    html = response.text\n",
    "    parsed = bs(html)\n",
    "    return int(re.findall(r'\\d+', str(parsed.find_all('span', {'class': 'ws-hide'})[1]))[0])\n",
    "\n",
    "def getpages(url = \"https://www.majestic.co.uk/wine\", \n",
    "             maxpages=getnumberofpages(url = \"https://www.majestic.co.uk/wine\")):\n",
    "    pagelinks = []\n",
    "    for n in range(maxpages):\n",
    "        if n == 0:\n",
    "            pagelinks.append(url)\n",
    "        else:\n",
    "            pagelinks.append(url+\"?page=\"+str(n+1))\n",
    "    return pagelinks\n",
    "\n",
    "def getlinks(pages=getpages()):\n",
    "    links = []\n",
    "    for url in pages:\n",
    "        response = requests.get(url)\n",
    "        html = response.text\n",
    "        parsed = bs(html)\n",
    "        links_dirty = parsed.find_all('a', {'class': 'ish-product-link kor-product-link ish-pricesContainer ish-product-prices'})\n",
    "        for l in links_dirty:\n",
    "            text = str(l)\n",
    "            pos1 = text.find('href=')\n",
    "            text = text[pos1:]\n",
    "            pos2 = text.find(';')\n",
    "            text = text[6:pos2]\n",
    "            if text not in links:\n",
    "                links.append(text)\n",
    "    return links\n",
    "\n",
    "links = getlinks()"
   ]
  },
  {
   "cell_type": "code",
   "execution_count": 8,
   "metadata": {
    "collapsed": false
   },
   "outputs": [],
   "source": [
    "def getparsed(link):\n",
    "    response = requests.get(link)\n",
    "    html = response.text\n",
    "    return bs(html)\n",
    "\n",
    "def extract(text, cut = '</div>'):\n",
    "    text = str(text)[:str(text).find(cut)]\n",
    "    return text[text.rfind('>')+1:]\n",
    "\n",
    "def getcountry(parsed):\n",
    "    return extract(parsed.find('p', {'class': 'ish-ca-value'}),cut='</p>')\n",
    "\n",
    "def getgrape(parsed):\n",
    "    return extract(parsed.find('div', {'class': 'ish-ca-value'}),cut='</a>')\n",
    "\n",
    "def getsweetness(parsed):\n",
    "    return extract(parsed.find('div', {'class': 'wine-sweetness'}),cut='</span>')\n",
    "\n",
    "def getcolour(parsed):\n",
    "    return extract(parsed.find('div', {'class': 'shape colour'}))\n",
    "\n",
    "def getstyle(parsed):\n",
    "    return extract(parsed.find('div', {'class': 'shape style'}))\n",
    "\n",
    "def getclosure(parsed):\n",
    "    return extract(parsed.find('div', {'class': 'shape closure'}))\n",
    "\n",
    "def getabv(parsed):\n",
    "    return extract(parsed.find('div', {'class': 'shape abv'}))\n",
    "\n",
    "def getunitspbottle(parsed):\n",
    "    return extract(parsed.find('div', {'class': 'shape unitsPerBottle'}))\n",
    "\n",
    "def getdescription(parsed):\n",
    "    return extract(parsed.find('div', {'class': 'ish-productDescription ish-productDescription-long'}))\n",
    "\n",
    "def getinfo(parsed):\n",
    "    infolist = []\n",
    "    infolist.append(getcountry(parsed))\n",
    "    infolist.append(getgrape(parsed))\n",
    "    infolist.append(getsweetness(parsed))\n",
    "    infolist.append(getcolour(parsed))\n",
    "    infolist.append(getstyle(parsed))\n",
    "    infolist.append(getclosure(parsed))\n",
    "    infolist.append(getabv(parsed))\n",
    "    infolist.append(getunitspbottle(parsed))\n",
    "    infolist.append(getdescription(parsed))\n",
    "    return infolist"
   ]
  },
  {
   "cell_type": "code",
   "execution_count": 14,
   "metadata": {
    "collapsed": false
   },
   "outputs": [],
   "source": [
    "# threaded code\n",
    "df = []\n",
    "newlinks = []\n",
    "with ThreadPoolExecutor(max_workers=50) as executor:\n",
    "    future_to_url = {executor.submit(getparsed, link): link for link in links}\n",
    "    for future in concurrent.futures.as_completed(future_to_url):\n",
    "        link = future_to_url[future]\n",
    "        newlinks.append(link)\n",
    "        df.append(getinfo(future.result()))\n",
    "\n",
    "# non threaded code\n",
    "#df = []\n",
    "#for l in links:\n",
    "#    parsed = getparsed(l)\n",
    "#    df.append(getinfo(parsed))"
   ]
  },
  {
   "cell_type": "code",
   "execution_count": 16,
   "metadata": {
    "collapsed": false
   },
   "outputs": [],
   "source": [
    "df = pd.DataFrame(df)\n",
    "df['link'] = newlinks #links\n",
    "df.columns = ['Country', 'Grape', 'Sweetness', 'Colour', 'Style', 'Closure', 'abv', 'Units', 'Description', 'Link']\n",
    "df.to_csv('run3.csv')"
   ]
  }
 ],
 "metadata": {
  "anaconda-cloud": {},
  "kernelspec": {
   "display_name": "Python [webscr]",
   "language": "python",
   "name": "Python [webscr]"
  },
  "language_info": {
   "codemirror_mode": {
    "name": "ipython",
    "version": 3
   },
   "file_extension": ".py",
   "mimetype": "text/x-python",
   "name": "python",
   "nbconvert_exporter": "python",
   "pygments_lexer": "ipython3",
   "version": "3.4.5"
  }
 },
 "nbformat": 4,
 "nbformat_minor": 0
}
